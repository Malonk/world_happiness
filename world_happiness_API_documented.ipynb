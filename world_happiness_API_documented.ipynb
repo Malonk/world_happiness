{
 "cells": [
  {
   "cell_type": "markdown",
   "metadata": {},
   "source": [
    "# Retrieve weather data through the API"
   ]
  },
  {
   "cell_type": "markdown",
   "metadata": {},
   "source": [
    "We are using Meteostat's API to retrieve weather information.\n",
    "\n",
    "Link to the documentation: https://dev.meteostat.net/api"
   ]
  },
  {
   "cell_type": "markdown",
   "metadata": {},
   "source": [
    "### Steps to retrieve the weather data"
   ]
  },
  {
   "cell_type": "markdown",
   "metadata": {},
   "source": [
    "- Request an API key\n",
    "- Collect the final country list of the World Happiness Report\n",
    "- Find the capitals of those countries\n",
    "- To request daily weather data, we must pass the latitude and longitude of a weather station\n",
    "- We can find the latitude and longitude by first calling the API to retrieve information about a particular weather station in a certain city. For sake of simplicity, we decided to focus on the capital cities\n",
    "- Call the 'Finding Stations' part of the API for certain cities and save the latitude and longitude\n",
    "- Call the 'Daily Data' part of the API with the required latitude and longitude information to retrieve weather data"
   ]
  },
  {
   "cell_type": "markdown",
   "metadata": {},
   "source": [
    "## Imports"
   ]
  },
  {
   "cell_type": "code",
   "execution_count": 81,
   "metadata": {},
   "outputs": [],
   "source": [
    "import pandas as pd\n",
    "import requests\n",
    "import json\n",
    "import getpass\n",
    "from countryinfo import CountryInfo"
   ]
  },
  {
   "cell_type": "markdown",
   "metadata": {},
   "source": [
    "# Request the API key and test the access"
   ]
  },
  {
   "cell_type": "code",
   "execution_count": 82,
   "metadata": {},
   "outputs": [
    {
     "name": "stdout",
     "output_type": "stream",
     "text": [
      "········\n"
     ]
    }
   ],
   "source": [
    "key = (\"apikey\", getpass.getpass())"
   ]
  },
  {
   "cell_type": "code",
   "execution_count": 83,
   "metadata": {},
   "outputs": [],
   "source": [
    "url = \"https://api.meteostat.net/v2/stations/search?query=helsinki\""
   ]
  },
  {
   "cell_type": "code",
   "execution_count": 84,
   "metadata": {},
   "outputs": [
    {
     "name": "stdout",
     "output_type": "stream",
     "text": [
      "········\n"
     ]
    }
   ],
   "source": [
    "headers = {\"x-api-key\": getpass.getpass()}"
   ]
  },
  {
   "cell_type": "code",
   "execution_count": 85,
   "metadata": {},
   "outputs": [],
   "source": [
    "r = requests.get(url, headers=headers)\n",
    "results = r.json()"
   ]
  },
  {
   "cell_type": "code",
   "execution_count": 86,
   "metadata": {},
   "outputs": [
    {
     "data": {
      "text/plain": [
       "requests.models.Response"
      ]
     },
     "execution_count": 86,
     "metadata": {},
     "output_type": "execute_result"
    }
   ],
   "source": [
    "type(r)"
   ]
  },
  {
   "cell_type": "markdown",
   "metadata": {},
   "source": [
    "### After many negative responses, we got a positive response"
   ]
  },
  {
   "cell_type": "code",
   "execution_count": 87,
   "metadata": {},
   "outputs": [
    {
     "data": {
      "text/plain": [
       "200"
      ]
     },
     "execution_count": 87,
     "metadata": {},
     "output_type": "execute_result"
    }
   ],
   "source": [
    "r.status_code"
   ]
  },
  {
   "cell_type": "markdown",
   "metadata": {},
   "source": [
    "### First test results with a manual input of Helsinki"
   ]
  },
  {
   "cell_type": "markdown",
   "metadata": {},
   "source": [
    "Need to make sure we retrieve information of an active weather station"
   ]
  },
  {
   "cell_type": "code",
   "execution_count": 88,
   "metadata": {},
   "outputs": [
    {
     "data": {
      "text/plain": [
       "{'meta': {'exec_time': 0.038, 'generated': '2020-08-27 17:04:38'},\n",
       " 'data': [{'id': '02974',\n",
       "   'name': {'en': 'Helsinki-Vantaa'},\n",
       "   'country': 'FI',\n",
       "   'region': None,\n",
       "   'national': None,\n",
       "   'wmo': '02974',\n",
       "   'icao': 'EFHK',\n",
       "   'iata': 'HEL',\n",
       "   'latitude': 60.3167,\n",
       "   'longitude': 24.9667,\n",
       "   'elevation': 51,\n",
       "   'timezone': 'Europe/Helsinki',\n",
       "   'active': True},\n",
       "  {'id': '02975',\n",
       "   'name': {'en': 'Helsinki-Malmi'},\n",
       "   'country': 'FI',\n",
       "   'region': None,\n",
       "   'national': None,\n",
       "   'wmo': '02975',\n",
       "   'icao': 'EFHF',\n",
       "   'iata': 'HEM',\n",
       "   'latitude': 60.25,\n",
       "   'longitude': 25.05,\n",
       "   'elevation': 17,\n",
       "   'timezone': 'Europe/Helsinki',\n",
       "   'active': True},\n",
       "  {'id': '02978',\n",
       "   'name': {'en': 'Helsinki Kaisaniemi / Harju'},\n",
       "   'country': 'FI',\n",
       "   'region': None,\n",
       "   'national': None,\n",
       "   'wmo': '02978',\n",
       "   'icao': None,\n",
       "   'iata': None,\n",
       "   'latitude': 60.1833,\n",
       "   'longitude': 24.95,\n",
       "   'elevation': 4,\n",
       "   'timezone': 'Europe/Helsinki',\n",
       "   'active': True},\n",
       "  {'id': '02795',\n",
       "   'name': {'en': 'Helsinki Harmaja / Suomenlinna'},\n",
       "   'country': 'FI',\n",
       "   'region': 'ES',\n",
       "   'national': None,\n",
       "   'wmo': '02795',\n",
       "   'icao': None,\n",
       "   'iata': None,\n",
       "   'latitude': 60.1,\n",
       "   'longitude': 24.9833,\n",
       "   'elevation': 3,\n",
       "   'timezone': 'Europe/Helsinki',\n",
       "   'active': False},\n",
       "  {'id': '02998',\n",
       "   'name': {'en': 'Helsinki Kumpula'},\n",
       "   'country': 'FI',\n",
       "   'region': None,\n",
       "   'national': None,\n",
       "   'wmo': '02998',\n",
       "   'icao': None,\n",
       "   'iata': None,\n",
       "   'latitude': 24,\n",
       "   'longitude': 25.3,\n",
       "   'elevation': 0,\n",
       "   'timezone': 'Africa/Cairo',\n",
       "   'active': False}]}"
      ]
     },
     "execution_count": 88,
     "metadata": {},
     "output_type": "execute_result"
    }
   ],
   "source": [
    "results"
   ]
  },
  {
   "cell_type": "code",
   "execution_count": 89,
   "metadata": {},
   "outputs": [
    {
     "data": {
      "text/plain": [
       "'\\n\\n# function of gathering the latitude and longitude of the weather stations\\n\\n# list of all capital cities of selected countries in the World Happiness Ranking\\nstations_list = [\"asdf\", \"asldkf\", ....]\\n\\nlat = []   #\"latitude\": 45.6205,      (lat=)\\nlon = []   #\"longitude\": -122.6565,   (lon=) \\n\\ndef weather_stations(...):\\n    key = (\"apikey\", getpass.getpass())\\n    headers = {\"x-api-key\": getpass.getpass()}\\n    for station in stations_list:\\n        url = f\"https://api.meteostat.net/v2/stations/search?query={station}&limit=1\" \\n        #is it 1 call per city or 1 call for the whole list?\\n        if element 2 , 13 # if \"active\":True:\\n            lat.append(station[\"latitude\"])\\n            lon.append(station[\"longitude\"])\\n        else:\\n            print(station, \"inactive\")\\n    return ... \\n     \\n# I want to get back: city name, latitude + longitude, \\n\\n# in order to get the daily (x365days = yearly) weather data for the capital city\\n# we need to specify the lat + lon in the call \\n\\n\\n#inspiration\\ndef translate(to_translate, languages):\\n    auth = (\"apikey\", getpass.getpass())\\n    headers = {\"Content-Type\":\"application/json\"}\\n    url = \"https://api.eu-de.language-translator.watson.cloud.ibm.com/instances/3fd0629c-22b6-4f28-b90e-5676d0cc30fc/v3/translate?version=2018-05-01\"\\n    data = {\"text\": to_translate, \"model_id\": languages}\\n    \\n    response = requests.post(url=url,\\n                             headers=headers, \\n                             auth=auth, \\n                             data=json.dumps(data))\\n    return response.json()[\"translations\"]\\n\\n'"
      ]
     },
     "execution_count": 89,
     "metadata": {},
     "output_type": "execute_result"
    }
   ],
   "source": [
    "'''\n",
    "\n",
    "# function of gathering the latitude and longitude of the weather stations\n",
    "\n",
    "# list of all capital cities of selected countries in the World Happiness Ranking\n",
    "stations_list = [\"asdf\", \"asldkf\", ....]\n",
    "\n",
    "lat = []   #\"latitude\": 45.6205,      (lat=)\n",
    "lon = []   #\"longitude\": -122.6565,   (lon=) \n",
    "\n",
    "def weather_stations(...):\n",
    "    key = (\"apikey\", getpass.getpass())\n",
    "    headers = {\"x-api-key\": getpass.getpass()}\n",
    "    for station in stations_list:\n",
    "        url = f\"https://api.meteostat.net/v2/stations/search?query={station}&limit=1\" \n",
    "        #is it 1 call per city or 1 call for the whole list?\n",
    "        if element 2 , 13 # if \"active\":True:\n",
    "            lat.append(station[\"latitude\"])\n",
    "            lon.append(station[\"longitude\"])\n",
    "        else:\n",
    "            print(station, \"inactive\")\n",
    "    return ... \n",
    "     \n",
    "# I want to get back: city name, latitude + longitude, \n",
    "\n",
    "# in order to get the daily (x365days = yearly) weather data for the capital city\n",
    "# we need to specify the lat + lon in the call \n",
    "\n",
    "\n",
    "#inspiration\n",
    "def translate(to_translate, languages):\n",
    "    auth = (\"apikey\", getpass.getpass())\n",
    "    headers = {\"Content-Type\":\"application/json\"}\n",
    "    url = \"https://api.eu-de.language-translator.watson.cloud.ibm.com/instances/3fd0629c-22b6-4f28-b90e-5676d0cc30fc/v3/translate?version=2018-05-01\"\n",
    "    data = {\"text\": to_translate, \"model_id\": languages}\n",
    "    \n",
    "    response = requests.post(url=url,\n",
    "                             headers=headers, \n",
    "                             auth=auth, \n",
    "                             data=json.dumps(data))\n",
    "    return response.json()[\"translations\"]\n",
    "\n",
    "'''"
   ]
  },
  {
   "cell_type": "markdown",
   "metadata": {},
   "source": [
    "# Import the final country list of the cleaned World Happiness Report"
   ]
  },
  {
   "cell_type": "code",
   "execution_count": 91,
   "metadata": {},
   "outputs": [
    {
     "data": {
      "text/html": [
       "<div>\n",
       "<style scoped>\n",
       "    .dataframe tbody tr th:only-of-type {\n",
       "        vertical-align: middle;\n",
       "    }\n",
       "\n",
       "    .dataframe tbody tr th {\n",
       "        vertical-align: top;\n",
       "    }\n",
       "\n",
       "    .dataframe thead th {\n",
       "        text-align: right;\n",
       "    }\n",
       "</style>\n",
       "<table border=\"1\" class=\"dataframe\">\n",
       "  <thead>\n",
       "    <tr style=\"text-align: right;\">\n",
       "      <th></th>\n",
       "      <th>Unnamed: 0</th>\n",
       "      <th>Country_final</th>\n",
       "    </tr>\n",
       "  </thead>\n",
       "  <tbody>\n",
       "    <tr>\n",
       "      <th>0</th>\n",
       "      <td>0</td>\n",
       "      <td>Mauritius</td>\n",
       "    </tr>\n",
       "    <tr>\n",
       "      <th>1</th>\n",
       "      <td>1</td>\n",
       "      <td>Austria</td>\n",
       "    </tr>\n",
       "    <tr>\n",
       "      <th>2</th>\n",
       "      <td>2</td>\n",
       "      <td>Iceland</td>\n",
       "    </tr>\n",
       "    <tr>\n",
       "      <th>3</th>\n",
       "      <td>3</td>\n",
       "      <td>South Korea</td>\n",
       "    </tr>\n",
       "    <tr>\n",
       "      <th>4</th>\n",
       "      <td>4</td>\n",
       "      <td>Bosnia and Herzegovina</td>\n",
       "    </tr>\n",
       "    <tr>\n",
       "      <th>...</th>\n",
       "      <td>...</td>\n",
       "      <td>...</td>\n",
       "    </tr>\n",
       "    <tr>\n",
       "      <th>136</th>\n",
       "      <td>136</td>\n",
       "      <td>New Zealand</td>\n",
       "    </tr>\n",
       "    <tr>\n",
       "      <th>137</th>\n",
       "      <td>137</td>\n",
       "      <td>Yemen</td>\n",
       "    </tr>\n",
       "    <tr>\n",
       "      <th>138</th>\n",
       "      <td>138</td>\n",
       "      <td>Hungary</td>\n",
       "    </tr>\n",
       "    <tr>\n",
       "      <th>139</th>\n",
       "      <td>139</td>\n",
       "      <td>Kyrgyzstan</td>\n",
       "    </tr>\n",
       "    <tr>\n",
       "      <th>140</th>\n",
       "      <td>140</td>\n",
       "      <td>Canada</td>\n",
       "    </tr>\n",
       "  </tbody>\n",
       "</table>\n",
       "<p>141 rows × 2 columns</p>\n",
       "</div>"
      ],
      "text/plain": [
       "     Unnamed: 0           Country_final\n",
       "0             0               Mauritius\n",
       "1             1                 Austria\n",
       "2             2                 Iceland\n",
       "3             3             South Korea\n",
       "4             4  Bosnia and Herzegovina\n",
       "..          ...                     ...\n",
       "136         136             New Zealand\n",
       "137         137                   Yemen\n",
       "138         138                 Hungary\n",
       "139         139              Kyrgyzstan\n",
       "140         140                  Canada\n",
       "\n",
       "[141 rows x 2 columns]"
      ]
     },
     "execution_count": 91,
     "metadata": {},
     "output_type": "execute_result"
    }
   ],
   "source": [
    "country_list_df = pd.read_csv(\"Country_final.csv\")\n",
    "country_list_df"
   ]
  },
  {
   "cell_type": "code",
   "execution_count": 92,
   "metadata": {},
   "outputs": [
    {
     "data": {
      "text/plain": [
       "'Country_final'"
      ]
     },
     "execution_count": 92,
     "metadata": {},
     "output_type": "execute_result"
    }
   ],
   "source": [
    "country_list_df.columns[1]"
   ]
  },
  {
   "cell_type": "code",
   "execution_count": 93,
   "metadata": {},
   "outputs": [],
   "source": [
    "country_list_drop = country_list_df.drop('Unnamed: 0', axis=1)"
   ]
  },
  {
   "cell_type": "code",
   "execution_count": 94,
   "metadata": {},
   "outputs": [],
   "source": [
    "country_list_test = country_list_drop.values.tolist()"
   ]
  },
  {
   "cell_type": "code",
   "execution_count": 95,
   "metadata": {},
   "outputs": [
    {
     "data": {
      "text/plain": [
       "[['Mauritius'],\n",
       " ['Austria'],\n",
       " ['Iceland'],\n",
       " ['South Korea'],\n",
       " ['Bosnia and Herzegovina'],\n",
       " ['Lithuania'],\n",
       " ['Malawi'],\n",
       " ['Uzbekistan'],\n",
       " ['Mauritania'],\n",
       " ['Slovakia'],\n",
       " ['Morocco'],\n",
       " ['Sweden'],\n",
       " ['Indonesia'],\n",
       " ['Myanmar'],\n",
       " ['Jamaica'],\n",
       " ['Ireland'],\n",
       " ['Zimbabwe'],\n",
       " ['Venezuela'],\n",
       " ['Rwanda'],\n",
       " ['United Kingdom'],\n",
       " ['Chad'],\n",
       " ['Italy'],\n",
       " ['Qatar'],\n",
       " ['Bolivia'],\n",
       " ['Burundi'],\n",
       " ['Iran'],\n",
       " ['Montenegro'],\n",
       " ['Cyprus'],\n",
       " ['Belarus'],\n",
       " ['Malaysia'],\n",
       " ['Congo (Brazzaville)'],\n",
       " ['Romania'],\n",
       " ['Finland'],\n",
       " ['Algeria'],\n",
       " ['Haiti'],\n",
       " ['Nepal'],\n",
       " ['Costa Rica'],\n",
       " ['Nicaragua'],\n",
       " ['Kosovo'],\n",
       " ['Spain'],\n",
       " ['Georgia'],\n",
       " ['Guinea'],\n",
       " ['Chile'],\n",
       " ['Ivory Coast'],\n",
       " ['Slovenia'],\n",
       " ['Germany'],\n",
       " ['Cameroon'],\n",
       " ['Jordan'],\n",
       " ['Iraq'],\n",
       " ['United States'],\n",
       " ['Afghanistan'],\n",
       " ['Russia'],\n",
       " ['El Salvador'],\n",
       " ['Ghana'],\n",
       " ['Argentina'],\n",
       " ['Sri Lanka'],\n",
       " ['Bulgaria'],\n",
       " ['Ethiopia'],\n",
       " ['Kuwait'],\n",
       " ['Moldova'],\n",
       " ['Ukraine'],\n",
       " ['Mali'],\n",
       " ['Niger'],\n",
       " ['Croatia'],\n",
       " ['France'],\n",
       " ['Uruguay'],\n",
       " ['Zambia'],\n",
       " ['Latvia'],\n",
       " ['Syria'],\n",
       " ['Armenia'],\n",
       " ['Australia'],\n",
       " ['Tajikistan'],\n",
       " ['Dominican Republic'],\n",
       " ['Kenya'],\n",
       " ['Brazil'],\n",
       " ['Greece'],\n",
       " ['Palestinian Territories'],\n",
       " ['Bhutan'],\n",
       " ['Ecuador'],\n",
       " ['Panama'],\n",
       " ['Albania'],\n",
       " ['Burkina Faso'],\n",
       " ['Egypt'],\n",
       " ['Estonia'],\n",
       " ['Benin'],\n",
       " ['Czech Republic'],\n",
       " ['Madagascar'],\n",
       " ['Azerbaijan'],\n",
       " ['Malta'],\n",
       " ['India'],\n",
       " ['Peru'],\n",
       " ['Congo (Kinshasa)'],\n",
       " ['Honduras'],\n",
       " ['Saudi Arabia'],\n",
       " ['China'],\n",
       " ['Israel'],\n",
       " ['Gabon'],\n",
       " ['United Arab Emirates'],\n",
       " ['Bahrain'],\n",
       " ['Paraguay'],\n",
       " ['Philippines'],\n",
       " ['Lebanon'],\n",
       " ['Portugal'],\n",
       " ['Vietnam'],\n",
       " ['Nigeria'],\n",
       " ['Uganda'],\n",
       " ['Mongolia'],\n",
       " ['Botswana'],\n",
       " ['Cambodia'],\n",
       " ['Pakistan'],\n",
       " ['Turkmenistan'],\n",
       " ['Switzerland'],\n",
       " ['Thailand'],\n",
       " ['Senegal'],\n",
       " ['Tanzania'],\n",
       " ['Liberia'],\n",
       " ['Libya'],\n",
       " ['Togo'],\n",
       " ['Turkey'],\n",
       " ['Belgium'],\n",
       " ['Mexico'],\n",
       " ['Serbia'],\n",
       " ['Poland'],\n",
       " ['Norway'],\n",
       " ['Japan'],\n",
       " ['Sierra Leone'],\n",
       " ['Guatemala'],\n",
       " ['South Africa'],\n",
       " ['Bangladesh'],\n",
       " ['Luxembourg'],\n",
       " ['Singapore'],\n",
       " ['Netherlands'],\n",
       " ['Tunisia'],\n",
       " ['Colombia'],\n",
       " ['Denmark'],\n",
       " ['Kazakhstan'],\n",
       " ['New Zealand'],\n",
       " ['Yemen'],\n",
       " ['Hungary'],\n",
       " ['Kyrgyzstan'],\n",
       " ['Canada']]"
      ]
     },
     "execution_count": 95,
     "metadata": {},
     "output_type": "execute_result"
    }
   ],
   "source": [
    "country_list_test"
   ]
  },
  {
   "cell_type": "markdown",
   "metadata": {},
   "source": [
    "### Unpacking the country list"
   ]
  },
  {
   "cell_type": "code",
   "execution_count": 96,
   "metadata": {},
   "outputs": [
    {
     "data": {
      "text/plain": [
       "'\\nthis means:\\n\\ncountry_list = []\\nfor sublist in country_list_test:\\n    for country in sublist:\\n        country_list.append(country)\\n'"
      ]
     },
     "execution_count": 96,
     "metadata": {},
     "output_type": "execute_result"
    }
   ],
   "source": [
    "country_list = [country for sublist in country_list_test for country in sublist]\n",
    "\n",
    "'''\n",
    "this means:\n",
    "\n",
    "country_list = []\n",
    "for sublist in country_list_test:\n",
    "    for country in sublist:\n",
    "        country_list.append(country)\n",
    "'''"
   ]
  },
  {
   "cell_type": "code",
   "execution_count": 97,
   "metadata": {},
   "outputs": [
    {
     "data": {
      "text/plain": [
       "['Mauritius',\n",
       " 'Austria',\n",
       " 'Iceland',\n",
       " 'South Korea',\n",
       " 'Bosnia and Herzegovina',\n",
       " 'Lithuania',\n",
       " 'Malawi',\n",
       " 'Uzbekistan',\n",
       " 'Mauritania',\n",
       " 'Slovakia',\n",
       " 'Morocco',\n",
       " 'Sweden',\n",
       " 'Indonesia',\n",
       " 'Myanmar',\n",
       " 'Jamaica',\n",
       " 'Ireland',\n",
       " 'Zimbabwe',\n",
       " 'Venezuela',\n",
       " 'Rwanda',\n",
       " 'United Kingdom',\n",
       " 'Chad',\n",
       " 'Italy',\n",
       " 'Qatar',\n",
       " 'Bolivia',\n",
       " 'Burundi',\n",
       " 'Iran',\n",
       " 'Montenegro',\n",
       " 'Cyprus',\n",
       " 'Belarus',\n",
       " 'Malaysia',\n",
       " 'Congo (Brazzaville)',\n",
       " 'Romania',\n",
       " 'Finland',\n",
       " 'Algeria',\n",
       " 'Haiti',\n",
       " 'Nepal',\n",
       " 'Costa Rica',\n",
       " 'Nicaragua',\n",
       " 'Kosovo',\n",
       " 'Spain',\n",
       " 'Georgia',\n",
       " 'Guinea',\n",
       " 'Chile',\n",
       " 'Ivory Coast',\n",
       " 'Slovenia',\n",
       " 'Germany',\n",
       " 'Cameroon',\n",
       " 'Jordan',\n",
       " 'Iraq',\n",
       " 'United States',\n",
       " 'Afghanistan',\n",
       " 'Russia',\n",
       " 'El Salvador',\n",
       " 'Ghana',\n",
       " 'Argentina',\n",
       " 'Sri Lanka',\n",
       " 'Bulgaria',\n",
       " 'Ethiopia',\n",
       " 'Kuwait',\n",
       " 'Moldova',\n",
       " 'Ukraine',\n",
       " 'Mali',\n",
       " 'Niger',\n",
       " 'Croatia',\n",
       " 'France',\n",
       " 'Uruguay',\n",
       " 'Zambia',\n",
       " 'Latvia',\n",
       " 'Syria',\n",
       " 'Armenia',\n",
       " 'Australia',\n",
       " 'Tajikistan',\n",
       " 'Dominican Republic',\n",
       " 'Kenya',\n",
       " 'Brazil',\n",
       " 'Greece',\n",
       " 'Palestinian Territories',\n",
       " 'Bhutan',\n",
       " 'Ecuador',\n",
       " 'Panama',\n",
       " 'Albania',\n",
       " 'Burkina Faso',\n",
       " 'Egypt',\n",
       " 'Estonia',\n",
       " 'Benin',\n",
       " 'Czech Republic',\n",
       " 'Madagascar',\n",
       " 'Azerbaijan',\n",
       " 'Malta',\n",
       " 'India',\n",
       " 'Peru',\n",
       " 'Congo (Kinshasa)',\n",
       " 'Honduras',\n",
       " 'Saudi Arabia',\n",
       " 'China',\n",
       " 'Israel',\n",
       " 'Gabon',\n",
       " 'United Arab Emirates',\n",
       " 'Bahrain',\n",
       " 'Paraguay',\n",
       " 'Philippines',\n",
       " 'Lebanon',\n",
       " 'Portugal',\n",
       " 'Vietnam',\n",
       " 'Nigeria',\n",
       " 'Uganda',\n",
       " 'Mongolia',\n",
       " 'Botswana',\n",
       " 'Cambodia',\n",
       " 'Pakistan',\n",
       " 'Turkmenistan',\n",
       " 'Switzerland',\n",
       " 'Thailand',\n",
       " 'Senegal',\n",
       " 'Tanzania',\n",
       " 'Liberia',\n",
       " 'Libya',\n",
       " 'Togo',\n",
       " 'Turkey',\n",
       " 'Belgium',\n",
       " 'Mexico',\n",
       " 'Serbia',\n",
       " 'Poland',\n",
       " 'Norway',\n",
       " 'Japan',\n",
       " 'Sierra Leone',\n",
       " 'Guatemala',\n",
       " 'South Africa',\n",
       " 'Bangladesh',\n",
       " 'Luxembourg',\n",
       " 'Singapore',\n",
       " 'Netherlands',\n",
       " 'Tunisia',\n",
       " 'Colombia',\n",
       " 'Denmark',\n",
       " 'Kazakhstan',\n",
       " 'New Zealand',\n",
       " 'Yemen',\n",
       " 'Hungary',\n",
       " 'Kyrgyzstan',\n",
       " 'Canada']"
      ]
     },
     "execution_count": 97,
     "metadata": {},
     "output_type": "execute_result"
    }
   ],
   "source": [
    "country_list"
   ]
  },
  {
   "cell_type": "code",
   "execution_count": 98,
   "metadata": {},
   "outputs": [
    {
     "data": {
      "text/plain": [
       "141"
      ]
     },
     "execution_count": 98,
     "metadata": {},
     "output_type": "execute_result"
    }
   ],
   "source": [
    "len(country_list)"
   ]
  },
  {
   "cell_type": "markdown",
   "metadata": {},
   "source": [
    "# Finding the country's capital"
   ]
  },
  {
   "cell_type": "markdown",
   "metadata": {},
   "source": [
    "Installed a package to convert countries to capitals\n",
    "\n",
    "Source: https://github.com/porimol/countryinfo"
   ]
  },
  {
   "cell_type": "code",
   "execution_count": 99,
   "metadata": {},
   "outputs": [
    {
     "name": "stdout",
     "output_type": "stream",
     "text": [
      "Copenhagen\n"
     ]
    }
   ],
   "source": [
    "country = CountryInfo('Denmark')\n",
    "print(country.capital())\n"
   ]
  },
  {
   "cell_type": "markdown",
   "metadata": {},
   "source": [
    "### Converting into a dictionary with { Country : Capital } and all countries which aren't recognized get 'N.A.' as the capital value"
   ]
  },
  {
   "cell_type": "code",
   "execution_count": 100,
   "metadata": {
    "scrolled": true
   },
   "outputs": [],
   "source": [
    "capitals = {}\n",
    "\n",
    "for country in country_list:\n",
    "    try:\n",
    "        capital_output = CountryInfo(country)\n",
    "        capitals.update({country : (capital_output.capital())})\n",
    "    except Exception:\n",
    "        capitals.update({country : (\"N.A.\")})        \n",
    "        "
   ]
  },
  {
   "cell_type": "code",
   "execution_count": 101,
   "metadata": {
    "scrolled": false
   },
   "outputs": [
    {
     "data": {
      "text/plain": [
       "{'Mauritius': 'Port Louis',\n",
       " 'Austria': 'Vienna',\n",
       " 'Iceland': 'Reykjavik',\n",
       " 'South Korea': 'Seoul',\n",
       " 'Bosnia and Herzegovina': 'Sarajevo',\n",
       " 'Lithuania': 'Vilnius',\n",
       " 'Malawi': 'Lilongwe',\n",
       " 'Uzbekistan': 'Tashkent',\n",
       " 'Mauritania': 'Nouakchott',\n",
       " 'Slovakia': 'Bratislava',\n",
       " 'Morocco': 'Rabat',\n",
       " 'Sweden': 'Stockholm',\n",
       " 'Indonesia': 'Jakarta',\n",
       " 'Myanmar': 'N.A.',\n",
       " 'Jamaica': 'Kingston',\n",
       " 'Ireland': 'Dublin',\n",
       " 'Zimbabwe': 'Harare',\n",
       " 'Venezuela': 'Caracas',\n",
       " 'Rwanda': 'Kigali',\n",
       " 'United Kingdom': 'London',\n",
       " 'Chad': \"N'Djamena\",\n",
       " 'Italy': 'Rome',\n",
       " 'Qatar': 'Doha',\n",
       " 'Bolivia': 'Sucre',\n",
       " 'Burundi': 'Bujumbura',\n",
       " 'Iran': 'Tehran',\n",
       " 'Montenegro': 'N.A.',\n",
       " 'Cyprus': 'Nicosia',\n",
       " 'Belarus': 'Minsk',\n",
       " 'Malaysia': 'Kuala Lumpur',\n",
       " 'Congo (Brazzaville)': 'N.A.',\n",
       " 'Romania': 'Bucharest',\n",
       " 'Finland': 'Helsinki',\n",
       " 'Algeria': 'Algiers',\n",
       " 'Haiti': 'Port-au-Prince',\n",
       " 'Nepal': 'Kathmandu',\n",
       " 'Costa Rica': 'San José',\n",
       " 'Nicaragua': 'Managua',\n",
       " 'Kosovo': 'N.A.',\n",
       " 'Spain': 'Madrid',\n",
       " 'Georgia': 'Tbilisi',\n",
       " 'Guinea': 'Conakry',\n",
       " 'Chile': 'Santiago',\n",
       " 'Ivory Coast': 'Yamoussoukro',\n",
       " 'Slovenia': 'Ljubljana',\n",
       " 'Germany': 'Berlin',\n",
       " 'Cameroon': 'Yaoundé',\n",
       " 'Jordan': 'Amman',\n",
       " 'Iraq': 'Baghdad',\n",
       " 'United States': 'Washington D.C.',\n",
       " 'Afghanistan': 'Kabul',\n",
       " 'Russia': 'Moscow',\n",
       " 'El Salvador': 'San Salvador',\n",
       " 'Ghana': 'Accra',\n",
       " 'Argentina': 'Buenos Aires',\n",
       " 'Sri Lanka': 'Colombo',\n",
       " 'Bulgaria': 'Sofia',\n",
       " 'Ethiopia': 'Addis Ababa',\n",
       " 'Kuwait': 'Kuwait City',\n",
       " 'Moldova': 'Chișinău',\n",
       " 'Ukraine': 'Kiev',\n",
       " 'Mali': 'Bamako',\n",
       " 'Niger': 'Niamey',\n",
       " 'Croatia': 'Zagreb',\n",
       " 'France': 'Paris',\n",
       " 'Uruguay': 'Montevideo',\n",
       " 'Zambia': 'Lusaka',\n",
       " 'Latvia': 'Riga',\n",
       " 'Syria': 'Damascus',\n",
       " 'Armenia': 'Yerevan',\n",
       " 'Australia': 'Canberra',\n",
       " 'Tajikistan': 'Dushanbe',\n",
       " 'Dominican Republic': 'Santo Domingo',\n",
       " 'Kenya': 'Nairobi',\n",
       " 'Brazil': 'Brasília',\n",
       " 'Greece': 'Athens',\n",
       " 'Palestinian Territories': 'N.A.',\n",
       " 'Bhutan': 'Thimphu',\n",
       " 'Ecuador': 'Quito',\n",
       " 'Panama': 'Panama City',\n",
       " 'Albania': 'Tirana',\n",
       " 'Burkina Faso': 'Ouagadougou',\n",
       " 'Egypt': 'Cairo',\n",
       " 'Estonia': 'Tallinn',\n",
       " 'Benin': 'Porto-Novo',\n",
       " 'Czech Republic': 'Prague',\n",
       " 'Madagascar': 'Antananarivo',\n",
       " 'Azerbaijan': 'Baku',\n",
       " 'Malta': 'Valletta',\n",
       " 'India': 'New Delhi',\n",
       " 'Peru': 'Lima',\n",
       " 'Congo (Kinshasa)': 'N.A.',\n",
       " 'Honduras': 'Tegucigalpa',\n",
       " 'Saudi Arabia': 'Riyadh',\n",
       " 'China': 'Beijing',\n",
       " 'Israel': 'Jerusalem',\n",
       " 'Gabon': 'Libreville',\n",
       " 'United Arab Emirates': 'Abu Dhabi',\n",
       " 'Bahrain': 'Manama',\n",
       " 'Paraguay': 'Asunción',\n",
       " 'Philippines': 'Manila',\n",
       " 'Lebanon': 'Beirut',\n",
       " 'Portugal': 'Lisbon',\n",
       " 'Vietnam': 'Hanoi',\n",
       " 'Nigeria': 'Abuja',\n",
       " 'Uganda': 'Kampala',\n",
       " 'Mongolia': 'Ulan Bator',\n",
       " 'Botswana': 'Gaborone',\n",
       " 'Cambodia': 'Phnom Penh',\n",
       " 'Pakistan': 'Islamabad',\n",
       " 'Turkmenistan': 'Ashgabat',\n",
       " 'Switzerland': 'Bern',\n",
       " 'Thailand': 'Bangkok',\n",
       " 'Senegal': 'Dakar',\n",
       " 'Tanzania': 'Dodoma',\n",
       " 'Liberia': 'Monrovia',\n",
       " 'Libya': 'Tripoli',\n",
       " 'Togo': 'Lomé',\n",
       " 'Turkey': 'Ankara',\n",
       " 'Belgium': 'Brussels',\n",
       " 'Mexico': 'Mexico City',\n",
       " 'Serbia': 'Belgrade',\n",
       " 'Poland': 'Warsaw',\n",
       " 'Norway': 'Oslo',\n",
       " 'Japan': 'Tokyo',\n",
       " 'Sierra Leone': 'Freetown',\n",
       " 'Guatemala': 'Guatemala City',\n",
       " 'South Africa': 'Pretoria',\n",
       " 'Bangladesh': 'Dhaka',\n",
       " 'Luxembourg': 'Luxembourg',\n",
       " 'Singapore': 'Singapore',\n",
       " 'Netherlands': 'Amsterdam',\n",
       " 'Tunisia': 'Tunis',\n",
       " 'Colombia': 'Bogotá',\n",
       " 'Denmark': 'Copenhagen',\n",
       " 'Kazakhstan': 'Astana',\n",
       " 'New Zealand': 'Wellington',\n",
       " 'Yemen': \"Sana'a\",\n",
       " 'Hungary': 'Budapest',\n",
       " 'Kyrgyzstan': 'Bishkek',\n",
       " 'Canada': 'Ottawa'}"
      ]
     },
     "execution_count": 101,
     "metadata": {},
     "output_type": "execute_result"
    }
   ],
   "source": [
    "capitals"
   ]
  },
  {
   "cell_type": "code",
   "execution_count": 102,
   "metadata": {},
   "outputs": [],
   "source": [
    "from collections import Counter"
   ]
  },
  {
   "cell_type": "code",
   "execution_count": 103,
   "metadata": {},
   "outputs": [
    {
     "data": {
      "text/plain": [
       "6"
      ]
     },
     "execution_count": 103,
     "metadata": {},
     "output_type": "execute_result"
    }
   ],
   "source": [
    "Counter(capitals.values())[\"N.A.\"]"
   ]
  },
  {
   "cell_type": "code",
   "execution_count": 104,
   "metadata": {},
   "outputs": [
    {
     "data": {
      "text/plain": [
       "141"
      ]
     },
     "execution_count": 104,
     "metadata": {},
     "output_type": "execute_result"
    }
   ],
   "source": [
    "len(capitals)"
   ]
  },
  {
   "cell_type": "markdown",
   "metadata": {},
   "source": [
    "### Check the countries and capitals"
   ]
  },
  {
   "cell_type": "code",
   "execution_count": 105,
   "metadata": {},
   "outputs": [],
   "source": [
    "capitals_na = [key for key in capitals if capitals[key] == \"N.A.\"]"
   ]
  },
  {
   "cell_type": "code",
   "execution_count": 106,
   "metadata": {},
   "outputs": [
    {
     "data": {
      "text/plain": [
       "['Myanmar',\n",
       " 'Montenegro',\n",
       " 'Congo (Brazzaville)',\n",
       " 'Kosovo',\n",
       " 'Palestinian Territories',\n",
       " 'Congo (Kinshasa)']"
      ]
     },
     "execution_count": 106,
     "metadata": {},
     "output_type": "execute_result"
    }
   ],
   "source": [
    "capitals_na"
   ]
  },
  {
   "cell_type": "code",
   "execution_count": 107,
   "metadata": {},
   "outputs": [],
   "source": [
    "countries_without_na = list(capitals.keys()) "
   ]
  },
  {
   "cell_type": "code",
   "execution_count": 108,
   "metadata": {},
   "outputs": [
    {
     "data": {
      "text/plain": [
       "['Mauritius',\n",
       " 'Austria',\n",
       " 'Iceland',\n",
       " 'South Korea',\n",
       " 'Bosnia and Herzegovina',\n",
       " 'Lithuania',\n",
       " 'Malawi',\n",
       " 'Uzbekistan',\n",
       " 'Mauritania',\n",
       " 'Slovakia',\n",
       " 'Morocco',\n",
       " 'Sweden',\n",
       " 'Indonesia',\n",
       " 'Myanmar',\n",
       " 'Jamaica',\n",
       " 'Ireland',\n",
       " 'Zimbabwe',\n",
       " 'Venezuela',\n",
       " 'Rwanda',\n",
       " 'United Kingdom',\n",
       " 'Chad',\n",
       " 'Italy',\n",
       " 'Qatar',\n",
       " 'Bolivia',\n",
       " 'Burundi',\n",
       " 'Iran',\n",
       " 'Montenegro',\n",
       " 'Cyprus',\n",
       " 'Belarus',\n",
       " 'Malaysia',\n",
       " 'Congo (Brazzaville)',\n",
       " 'Romania',\n",
       " 'Finland',\n",
       " 'Algeria',\n",
       " 'Haiti',\n",
       " 'Nepal',\n",
       " 'Costa Rica',\n",
       " 'Nicaragua',\n",
       " 'Kosovo',\n",
       " 'Spain',\n",
       " 'Georgia',\n",
       " 'Guinea',\n",
       " 'Chile',\n",
       " 'Ivory Coast',\n",
       " 'Slovenia',\n",
       " 'Germany',\n",
       " 'Cameroon',\n",
       " 'Jordan',\n",
       " 'Iraq',\n",
       " 'United States',\n",
       " 'Afghanistan',\n",
       " 'Russia',\n",
       " 'El Salvador',\n",
       " 'Ghana',\n",
       " 'Argentina',\n",
       " 'Sri Lanka',\n",
       " 'Bulgaria',\n",
       " 'Ethiopia',\n",
       " 'Kuwait',\n",
       " 'Moldova',\n",
       " 'Ukraine',\n",
       " 'Mali',\n",
       " 'Niger',\n",
       " 'Croatia',\n",
       " 'France',\n",
       " 'Uruguay',\n",
       " 'Zambia',\n",
       " 'Latvia',\n",
       " 'Syria',\n",
       " 'Armenia',\n",
       " 'Australia',\n",
       " 'Tajikistan',\n",
       " 'Dominican Republic',\n",
       " 'Kenya',\n",
       " 'Brazil',\n",
       " 'Greece',\n",
       " 'Palestinian Territories',\n",
       " 'Bhutan',\n",
       " 'Ecuador',\n",
       " 'Panama',\n",
       " 'Albania',\n",
       " 'Burkina Faso',\n",
       " 'Egypt',\n",
       " 'Estonia',\n",
       " 'Benin',\n",
       " 'Czech Republic',\n",
       " 'Madagascar',\n",
       " 'Azerbaijan',\n",
       " 'Malta',\n",
       " 'India',\n",
       " 'Peru',\n",
       " 'Congo (Kinshasa)',\n",
       " 'Honduras',\n",
       " 'Saudi Arabia',\n",
       " 'China',\n",
       " 'Israel',\n",
       " 'Gabon',\n",
       " 'United Arab Emirates',\n",
       " 'Bahrain',\n",
       " 'Paraguay',\n",
       " 'Philippines',\n",
       " 'Lebanon',\n",
       " 'Portugal',\n",
       " 'Vietnam',\n",
       " 'Nigeria',\n",
       " 'Uganda',\n",
       " 'Mongolia',\n",
       " 'Botswana',\n",
       " 'Cambodia',\n",
       " 'Pakistan',\n",
       " 'Turkmenistan',\n",
       " 'Switzerland',\n",
       " 'Thailand',\n",
       " 'Senegal',\n",
       " 'Tanzania',\n",
       " 'Liberia',\n",
       " 'Libya',\n",
       " 'Togo',\n",
       " 'Turkey',\n",
       " 'Belgium',\n",
       " 'Mexico',\n",
       " 'Serbia',\n",
       " 'Poland',\n",
       " 'Norway',\n",
       " 'Japan',\n",
       " 'Sierra Leone',\n",
       " 'Guatemala',\n",
       " 'South Africa',\n",
       " 'Bangladesh',\n",
       " 'Luxembourg',\n",
       " 'Singapore',\n",
       " 'Netherlands',\n",
       " 'Tunisia',\n",
       " 'Colombia',\n",
       " 'Denmark',\n",
       " 'Kazakhstan',\n",
       " 'New Zealand',\n",
       " 'Yemen',\n",
       " 'Hungary',\n",
       " 'Kyrgyzstan',\n",
       " 'Canada']"
      ]
     },
     "execution_count": 108,
     "metadata": {},
     "output_type": "execute_result"
    }
   ],
   "source": [
    "countries_without_na"
   ]
  },
  {
   "cell_type": "code",
   "execution_count": 111,
   "metadata": {},
   "outputs": [],
   "source": [
    "capital_list = list(capitals.values())"
   ]
  },
  {
   "cell_type": "code",
   "execution_count": 112,
   "metadata": {},
   "outputs": [
    {
     "data": {
      "text/plain": [
       "['Port Louis',\n",
       " 'Vienna',\n",
       " 'Reykjavik',\n",
       " 'Seoul',\n",
       " 'Sarajevo',\n",
       " 'Vilnius',\n",
       " 'Lilongwe',\n",
       " 'Tashkent',\n",
       " 'Nouakchott',\n",
       " 'Bratislava',\n",
       " 'Rabat',\n",
       " 'Stockholm',\n",
       " 'Jakarta',\n",
       " 'N.A.',\n",
       " 'Kingston',\n",
       " 'Dublin',\n",
       " 'Harare',\n",
       " 'Caracas',\n",
       " 'Kigali',\n",
       " 'London',\n",
       " \"N'Djamena\",\n",
       " 'Rome',\n",
       " 'Doha',\n",
       " 'Sucre',\n",
       " 'Bujumbura',\n",
       " 'Tehran',\n",
       " 'N.A.',\n",
       " 'Nicosia',\n",
       " 'Minsk',\n",
       " 'Kuala Lumpur',\n",
       " 'N.A.',\n",
       " 'Bucharest',\n",
       " 'Helsinki',\n",
       " 'Algiers',\n",
       " 'Port-au-Prince',\n",
       " 'Kathmandu',\n",
       " 'San José',\n",
       " 'Managua',\n",
       " 'N.A.',\n",
       " 'Madrid',\n",
       " 'Tbilisi',\n",
       " 'Conakry',\n",
       " 'Santiago',\n",
       " 'Yamoussoukro',\n",
       " 'Ljubljana',\n",
       " 'Berlin',\n",
       " 'Yaoundé',\n",
       " 'Amman',\n",
       " 'Baghdad',\n",
       " 'Washington D.C.',\n",
       " 'Kabul',\n",
       " 'Moscow',\n",
       " 'San Salvador',\n",
       " 'Accra',\n",
       " 'Buenos Aires',\n",
       " 'Colombo',\n",
       " 'Sofia',\n",
       " 'Addis Ababa',\n",
       " 'Kuwait City',\n",
       " 'Chișinău',\n",
       " 'Kiev',\n",
       " 'Bamako',\n",
       " 'Niamey',\n",
       " 'Zagreb',\n",
       " 'Paris',\n",
       " 'Montevideo',\n",
       " 'Lusaka',\n",
       " 'Riga',\n",
       " 'Damascus',\n",
       " 'Yerevan',\n",
       " 'Canberra',\n",
       " 'Dushanbe',\n",
       " 'Santo Domingo',\n",
       " 'Nairobi',\n",
       " 'Brasília',\n",
       " 'Athens',\n",
       " 'N.A.',\n",
       " 'Thimphu',\n",
       " 'Quito',\n",
       " 'Panama City',\n",
       " 'Tirana',\n",
       " 'Ouagadougou',\n",
       " 'Cairo',\n",
       " 'Tallinn',\n",
       " 'Porto-Novo',\n",
       " 'Prague',\n",
       " 'Antananarivo',\n",
       " 'Baku',\n",
       " 'Valletta',\n",
       " 'New Delhi',\n",
       " 'Lima',\n",
       " 'N.A.',\n",
       " 'Tegucigalpa',\n",
       " 'Riyadh',\n",
       " 'Beijing',\n",
       " 'Jerusalem',\n",
       " 'Libreville',\n",
       " 'Abu Dhabi',\n",
       " 'Manama',\n",
       " 'Asunción',\n",
       " 'Manila',\n",
       " 'Beirut',\n",
       " 'Lisbon',\n",
       " 'Hanoi',\n",
       " 'Abuja',\n",
       " 'Kampala',\n",
       " 'Ulan Bator',\n",
       " 'Gaborone',\n",
       " 'Phnom Penh',\n",
       " 'Islamabad',\n",
       " 'Ashgabat',\n",
       " 'Bern',\n",
       " 'Bangkok',\n",
       " 'Dakar',\n",
       " 'Dodoma',\n",
       " 'Monrovia',\n",
       " 'Tripoli',\n",
       " 'Lomé',\n",
       " 'Ankara',\n",
       " 'Brussels',\n",
       " 'Mexico City',\n",
       " 'Belgrade',\n",
       " 'Warsaw',\n",
       " 'Oslo',\n",
       " 'Tokyo',\n",
       " 'Freetown',\n",
       " 'Guatemala City',\n",
       " 'Pretoria',\n",
       " 'Dhaka',\n",
       " 'Luxembourg',\n",
       " 'Singapore',\n",
       " 'Amsterdam',\n",
       " 'Tunis',\n",
       " 'Bogotá',\n",
       " 'Copenhagen',\n",
       " 'Astana',\n",
       " 'Wellington',\n",
       " \"Sana'a\",\n",
       " 'Budapest',\n",
       " 'Bishkek',\n",
       " 'Ottawa']"
      ]
     },
     "execution_count": 112,
     "metadata": {},
     "output_type": "execute_result"
    }
   ],
   "source": [
    "capital_list"
   ]
  },
  {
   "cell_type": "code",
   "execution_count": 113,
   "metadata": {},
   "outputs": [
    {
     "data": {
      "text/plain": [
       "141"
      ]
     },
     "execution_count": 113,
     "metadata": {},
     "output_type": "execute_result"
    }
   ],
   "source": [
    "len(capital_list)"
   ]
  },
  {
   "cell_type": "markdown",
   "metadata": {},
   "source": [
    "### Transform the capital list into lower case, so that it can be inserted in the API call"
   ]
  },
  {
   "cell_type": "code",
   "execution_count": 114,
   "metadata": {},
   "outputs": [],
   "source": [
    "# make capital list lower case to be able to use it in the API call\n",
    "\n",
    "capital_list = [city.lower() for city in capital_list]"
   ]
  },
  {
   "cell_type": "markdown",
   "metadata": {},
   "source": [
    "### The list of countries without capitals are shared to be excluded from the World Happiness Report"
   ]
  },
  {
   "cell_type": "markdown",
   "metadata": {},
   "source": [
    "We have decided this for simplicity reasons and to keep the report as clean as possible for this project"
   ]
  },
  {
   "cell_type": "code",
   "execution_count": 115,
   "metadata": {},
   "outputs": [],
   "source": [
    "remove_city = \"n.a.\"\n",
    "\n",
    "while remove_city in capital_list: \n",
    "    capital_list.remove(remove_city)"
   ]
  },
  {
   "cell_type": "code",
   "execution_count": 116,
   "metadata": {},
   "outputs": [
    {
     "data": {
      "text/plain": [
       "['port louis',\n",
       " 'vienna',\n",
       " 'reykjavik',\n",
       " 'seoul',\n",
       " 'sarajevo',\n",
       " 'vilnius',\n",
       " 'lilongwe',\n",
       " 'tashkent',\n",
       " 'nouakchott',\n",
       " 'bratislava',\n",
       " 'rabat',\n",
       " 'stockholm',\n",
       " 'jakarta',\n",
       " 'kingston',\n",
       " 'dublin',\n",
       " 'harare',\n",
       " 'caracas',\n",
       " 'kigali',\n",
       " 'london',\n",
       " \"n'djamena\",\n",
       " 'rome',\n",
       " 'doha',\n",
       " 'sucre',\n",
       " 'bujumbura',\n",
       " 'tehran',\n",
       " 'nicosia',\n",
       " 'minsk',\n",
       " 'kuala lumpur',\n",
       " 'bucharest',\n",
       " 'helsinki',\n",
       " 'algiers',\n",
       " 'port-au-prince',\n",
       " 'kathmandu',\n",
       " 'san josé',\n",
       " 'managua',\n",
       " 'madrid',\n",
       " 'tbilisi',\n",
       " 'conakry',\n",
       " 'santiago',\n",
       " 'yamoussoukro',\n",
       " 'ljubljana',\n",
       " 'berlin',\n",
       " 'yaoundé',\n",
       " 'amman',\n",
       " 'baghdad',\n",
       " 'washington d.c.',\n",
       " 'kabul',\n",
       " 'moscow',\n",
       " 'san salvador',\n",
       " 'accra',\n",
       " 'buenos aires',\n",
       " 'colombo',\n",
       " 'sofia',\n",
       " 'addis ababa',\n",
       " 'kuwait city',\n",
       " 'chișinău',\n",
       " 'kiev',\n",
       " 'bamako',\n",
       " 'niamey',\n",
       " 'zagreb',\n",
       " 'paris',\n",
       " 'montevideo',\n",
       " 'lusaka',\n",
       " 'riga',\n",
       " 'damascus',\n",
       " 'yerevan',\n",
       " 'canberra',\n",
       " 'dushanbe',\n",
       " 'santo domingo',\n",
       " 'nairobi',\n",
       " 'brasília',\n",
       " 'athens',\n",
       " 'thimphu',\n",
       " 'quito',\n",
       " 'panama city',\n",
       " 'tirana',\n",
       " 'ouagadougou',\n",
       " 'cairo',\n",
       " 'tallinn',\n",
       " 'porto-novo',\n",
       " 'prague',\n",
       " 'antananarivo',\n",
       " 'baku',\n",
       " 'valletta',\n",
       " 'new delhi',\n",
       " 'lima',\n",
       " 'tegucigalpa',\n",
       " 'riyadh',\n",
       " 'beijing',\n",
       " 'jerusalem',\n",
       " 'libreville',\n",
       " 'abu dhabi',\n",
       " 'manama',\n",
       " 'asunción',\n",
       " 'manila',\n",
       " 'beirut',\n",
       " 'lisbon',\n",
       " 'hanoi',\n",
       " 'abuja',\n",
       " 'kampala',\n",
       " 'ulan bator',\n",
       " 'gaborone',\n",
       " 'phnom penh',\n",
       " 'islamabad',\n",
       " 'ashgabat',\n",
       " 'bern',\n",
       " 'bangkok',\n",
       " 'dakar',\n",
       " 'dodoma',\n",
       " 'monrovia',\n",
       " 'tripoli',\n",
       " 'lomé',\n",
       " 'ankara',\n",
       " 'brussels',\n",
       " 'mexico city',\n",
       " 'belgrade',\n",
       " 'warsaw',\n",
       " 'oslo',\n",
       " 'tokyo',\n",
       " 'freetown',\n",
       " 'guatemala city',\n",
       " 'pretoria',\n",
       " 'dhaka',\n",
       " 'luxembourg',\n",
       " 'singapore',\n",
       " 'amsterdam',\n",
       " 'tunis',\n",
       " 'bogotá',\n",
       " 'copenhagen',\n",
       " 'astana',\n",
       " 'wellington',\n",
       " \"sana'a\",\n",
       " 'budapest',\n",
       " 'bishkek',\n",
       " 'ottawa']"
      ]
     },
     "execution_count": 116,
     "metadata": {},
     "output_type": "execute_result"
    }
   ],
   "source": [
    "capital_list"
   ]
  },
  {
   "cell_type": "code",
   "execution_count": 117,
   "metadata": {},
   "outputs": [
    {
     "data": {
      "text/plain": [
       "135"
      ]
     },
     "execution_count": 117,
     "metadata": {},
     "output_type": "execute_result"
    }
   ],
   "source": [
    "len(capital_list)"
   ]
  },
  {
   "cell_type": "code",
   "execution_count": 118,
   "metadata": {},
   "outputs": [],
   "source": [
    "df_capital_list = pd.DataFrame({\"capital_city\":capital_list})"
   ]
  },
  {
   "cell_type": "code",
   "execution_count": 119,
   "metadata": {},
   "outputs": [
    {
     "data": {
      "text/html": [
       "<div>\n",
       "<style scoped>\n",
       "    .dataframe tbody tr th:only-of-type {\n",
       "        vertical-align: middle;\n",
       "    }\n",
       "\n",
       "    .dataframe tbody tr th {\n",
       "        vertical-align: top;\n",
       "    }\n",
       "\n",
       "    .dataframe thead th {\n",
       "        text-align: right;\n",
       "    }\n",
       "</style>\n",
       "<table border=\"1\" class=\"dataframe\">\n",
       "  <thead>\n",
       "    <tr style=\"text-align: right;\">\n",
       "      <th></th>\n",
       "      <th>capital_city</th>\n",
       "    </tr>\n",
       "  </thead>\n",
       "  <tbody>\n",
       "    <tr>\n",
       "      <th>0</th>\n",
       "      <td>port louis</td>\n",
       "    </tr>\n",
       "    <tr>\n",
       "      <th>1</th>\n",
       "      <td>vienna</td>\n",
       "    </tr>\n",
       "    <tr>\n",
       "      <th>2</th>\n",
       "      <td>reykjavik</td>\n",
       "    </tr>\n",
       "    <tr>\n",
       "      <th>3</th>\n",
       "      <td>seoul</td>\n",
       "    </tr>\n",
       "    <tr>\n",
       "      <th>4</th>\n",
       "      <td>sarajevo</td>\n",
       "    </tr>\n",
       "    <tr>\n",
       "      <th>...</th>\n",
       "      <td>...</td>\n",
       "    </tr>\n",
       "    <tr>\n",
       "      <th>130</th>\n",
       "      <td>wellington</td>\n",
       "    </tr>\n",
       "    <tr>\n",
       "      <th>131</th>\n",
       "      <td>sana'a</td>\n",
       "    </tr>\n",
       "    <tr>\n",
       "      <th>132</th>\n",
       "      <td>budapest</td>\n",
       "    </tr>\n",
       "    <tr>\n",
       "      <th>133</th>\n",
       "      <td>bishkek</td>\n",
       "    </tr>\n",
       "    <tr>\n",
       "      <th>134</th>\n",
       "      <td>ottawa</td>\n",
       "    </tr>\n",
       "  </tbody>\n",
       "</table>\n",
       "<p>135 rows × 1 columns</p>\n",
       "</div>"
      ],
      "text/plain": [
       "    capital_city\n",
       "0     port louis\n",
       "1         vienna\n",
       "2      reykjavik\n",
       "3          seoul\n",
       "4       sarajevo\n",
       "..           ...\n",
       "130   wellington\n",
       "131       sana'a\n",
       "132     budapest\n",
       "133      bishkek\n",
       "134       ottawa\n",
       "\n",
       "[135 rows x 1 columns]"
      ]
     },
     "execution_count": 119,
     "metadata": {},
     "output_type": "execute_result"
    }
   ],
   "source": [
    "df_capital_list"
   ]
  },
  {
   "cell_type": "code",
   "execution_count": 120,
   "metadata": {},
   "outputs": [],
   "source": [
    "df_capital_list.to_csv('capitals.csv')"
   ]
  },
  {
   "cell_type": "markdown",
   "metadata": {},
   "source": [
    "# Request the capital's weather station to retrieve the latitude and longitude"
   ]
  },
  {
   "cell_type": "markdown",
   "metadata": {},
   "source": [
    "### Quick test to see if the manual input gives the desired output"
   ]
  },
  {
   "cell_type": "code",
   "execution_count": 136,
   "metadata": {},
   "outputs": [
    {
     "name": "stdout",
     "output_type": "stream",
     "text": [
      "{'helsinki': 41.2833}\n",
      "{'helsinki': 2.0667}\n",
      "{'helsinki': 41.2833, 'barcelona': 60.3167}\n",
      "{'helsinki': 2.0667, 'barcelona': 24.9667}\n",
      "{'helsinki': 41.2833, 'barcelona': 60.3167, 'amsterdam': 41.2833}\n",
      "{'helsinki': 2.0667, 'barcelona': 24.9667, 'amsterdam': 2.0667}\n"
     ]
    }
   ],
   "source": [
    "stations_list = [\"helsinki\", \"barcelona\", \"amsterdam\"]\n",
    "lat_test = {}  \n",
    "lon_test = {}\n",
    "\n",
    "for station in stations_list:\n",
    "    #key = (\"apikey\", getpass.getpass())\n",
    "    headers = {\"x-api-key\": 'getpass.getpass()'}\n",
    "    r = requests.get(url, headers=headers)\n",
    "    results = r.json()\n",
    "    url = f\"https://api.meteostat.net/v2/stations/search?query={station}\"\n",
    "    if results[\"data\"][0][\"active\"] == True:\n",
    "        #range(len(results[\"data\"]))\n",
    "        #print(station, \"it works hunny\")\n",
    "        lat_test.update({station : (results[\"data\"][0][\"latitude\"])})\n",
    "        lon_test.update({station : (results[\"data\"][0][\"longitude\"])})\n",
    "        print(lat_test)\n",
    "        print(lon_test)\n",
    "    else:\n",
    "        print(\"it's not working hunny\")"
   ]
  },
  {
   "cell_type": "code",
   "execution_count": 123,
   "metadata": {},
   "outputs": [
    {
     "data": {
      "text/plain": [
       "'\\ncapital_list\\nlat = {}  \\nlon = {}\\n#key = getpass.getpass()\\n\\nfor capital in capital_list:\\n    try:\\n        headers = {\"x-api-key\": getpass.getpass()}\\n        url = f\"https://api.meteostat.net/v2/stations/search?query={capital}\"\\n        r = requests.get(url, headers=headers)\\n        results = r.json()\\n        print(capital)\\n        \\n        if results[\"data\"][0][\"active\"] == True:\\n            lat.update({capital : (results[\"data\"][0][\"latitude\"])})\\n            lon.update({capital : (results[\"data\"][0][\"longitude\"])})\\n            print(lat)\\n            print(lon)\\n        #else:\\n           # print(capital)\\n         #   print(\"it\\'s not working hunny\")\\n    except:\\n        print(\"wasn\\'t here\")\\n        continue\\n'"
      ]
     },
     "execution_count": 123,
     "metadata": {},
     "output_type": "execute_result"
    }
   ],
   "source": [
    "# returning to API call to insert city to get latitude and longitude\n",
    "\n",
    "# Is the 1st available weather station of the capital active? \n",
    "# If true, then append it to the latitude and longitude list\n",
    "\n",
    "'''\n",
    "capital_list\n",
    "lat = {}  \n",
    "lon = {}\n",
    "#key = getpass.getpass()\n",
    "\n",
    "for capital in capital_list:\n",
    "    try:\n",
    "        headers = {\"x-api-key\": getpass.getpass()}\n",
    "        url = f\"https://api.meteostat.net/v2/stations/search?query={capital}\"\n",
    "        r = requests.get(url, headers=headers)\n",
    "        results = r.json()\n",
    "        print(capital)\n",
    "        \n",
    "        if results[\"data\"][0][\"active\"] == True:\n",
    "            lat.update({capital : (results[\"data\"][0][\"latitude\"])})\n",
    "            lon.update({capital : (results[\"data\"][0][\"longitude\"])})\n",
    "            print(lat)\n",
    "            print(lon)\n",
    "        #else:\n",
    "           # print(capital)\n",
    "         #   print(\"it's not working hunny\")\n",
    "    except:\n",
    "        print(\"wasn't here\")\n",
    "        continue\n",
    "'''"
   ]
  },
  {
   "cell_type": "markdown",
   "metadata": {},
   "source": [
    "### Test with the whole list of capitals"
   ]
  },
  {
   "cell_type": "markdown",
   "metadata": {},
   "source": [
    "Testing if all conditions are working and we are getting the information we are looking for: active weather station, latitude, longitude"
   ]
  },
  {
   "cell_type": "code",
   "execution_count": 133,
   "metadata": {},
   "outputs": [
    {
     "ename": "SyntaxError",
     "evalue": "invalid character in identifier (<ipython-input-133-ba77a763b819>, line 9)",
     "output_type": "error",
     "traceback": [
      "\u001b[0;36m  File \u001b[0;32m\"<ipython-input-133-ba77a763b819>\"\u001b[0;36m, line \u001b[0;32m9\u001b[0m\n\u001b[0;31m    url = f”https://api.meteostat.net/v2/stations/search?query={'capital'}”\u001b[0m\n\u001b[0m                ^\u001b[0m\n\u001b[0;31mSyntaxError\u001b[0m\u001b[0;31m:\u001b[0m invalid character in identifier\n"
     ]
    }
   ],
   "source": [
    "capital_list\n",
    "lat = {}\n",
    "lon = {}\n",
    "for capital in capital_list:\n",
    "    try:\n",
    "        headers = {\"x-api-key\": getpass.getpass()}\n",
    "        url = f”https://api.meteostat.net/v2/stations/search?query={'capital'}”\n",
    "        r = requests.get(url, headers=headers)\n",
    "        results = r.json()\n",
    "        print(capital)\n",
    "        #url = f”https://api.meteostat.net/v2/stations/search?query={capital}”\n",
    "        if results[“data”][0][“active”] == True:\n",
    "            lat.update({capital : (results[“data”][0][“latitude”])})\n",
    "            lon.update({capital : (results[“data”][0][“longitude”])})\n",
    "            print(lat)\n",
    "            print(lon)\n",
    "#        else:\n",
    "#            print(capital)\n",
    "#            print(“it’s not working hunny”)\n",
    "    except:\n",
    "        print(“wasn’t here”)\n",
    "        continue\n",
    "        \n",
    "        \n",
    "        "
   ]
  },
  {
   "cell_type": "markdown",
   "metadata": {},
   "source": [
    "Charlotte tested the same with her manual input of the key and got the following results:"
   ]
  },
  {
   "attachments": {
    "Screenshot1.png": {
     "image/png": "[encoded data removed]"
    }
   },
   "cell_type": "markdown",
   "metadata": {},
   "source": [
    "![Screenshot1.png](attachment:Screenshot1.png)"
   ]
  },
  {
   "cell_type": "markdown",
   "metadata": {},
   "source": [
    "### Manual test call for Amsterdam (Netherlands) 2018-08-27 (one day)"
   ]
  },
  {
   "cell_type": "code",
   "execution_count": 125,
   "metadata": {},
   "outputs": [],
   "source": [
    "url_weather = \"https://api.meteostat.net/v2/point/daily?lat=41.2833&lon=2.0667&start=2018-08-27&end=2018-08-27\""
   ]
  },
  {
   "cell_type": "code",
   "execution_count": 126,
   "metadata": {},
   "outputs": [
    {
     "name": "stdout",
     "output_type": "stream",
     "text": [
      "········\n"
     ]
    }
   ],
   "source": [
    "headers = {\"x-api-key\": getpass.getpass()}"
   ]
  },
  {
   "cell_type": "code",
   "execution_count": 127,
   "metadata": {},
   "outputs": [],
   "source": [
    "r = requests.get(url_weather, headers=headers)"
   ]
  },
  {
   "cell_type": "code",
   "execution_count": 128,
   "metadata": {},
   "outputs": [],
   "source": [
    "results = r.json()"
   ]
  },
  {
   "cell_type": "code",
   "execution_count": 129,
   "metadata": {},
   "outputs": [
    {
     "data": {
      "text/plain": [
       "200"
      ]
     },
     "execution_count": 129,
     "metadata": {},
     "output_type": "execute_result"
    }
   ],
   "source": [
    "r.status_code"
   ]
  },
  {
   "cell_type": "code",
   "execution_count": 130,
   "metadata": {},
   "outputs": [
    {
     "data": {
      "text/plain": [
       "{'meta': {'source': 'National Oceanic and Atmospheric Administration, Deutscher Wetterdienst',\n",
       "  'exec_time': 0.127,\n",
       "  'generated': '2020-08-28 10:53:26'},\n",
       " 'data': [{'date': '2018-08-27',\n",
       "   'tavg': 25.1,\n",
       "   'tmin': 22.5,\n",
       "   'tmax': 29,\n",
       "   'prcp': 0,\n",
       "   'snow': None,\n",
       "   'wdir': 240,\n",
       "   'wspd': 12,\n",
       "   'wpgt': None,\n",
       "   'pres': 1016,\n",
       "   'tsun': None}]}"
      ]
     },
     "execution_count": 130,
     "metadata": {},
     "output_type": "execute_result"
    }
   ],
   "source": [
    "results"
   ]
  },
  {
   "cell_type": "markdown",
   "metadata": {},
   "source": [
    "# Errors and obstacles in retrieving data through the API "
   ]
  },
  {
   "cell_type": "markdown",
   "metadata": {},
   "source": [
    "We have spent most of our time to make sure we are able to get the right data from this API, however we encountered many issues:\n",
    "\n",
    "- We weren't able to continuously access the API the same way. Sometimes it broke with Malon's API key through getpass, whereas for Charlotte it did work with her manual input of the key\n",
    "- We struggled with writing the loops and, eventually, functions to get the desired data\n",
    "- The screenshot above shows different outputs of the same code, however with using different API keys"
   ]
  },
  {
   "cell_type": "markdown",
   "metadata": {},
   "source": [
    "### Final decisions regarding working with the API "
   ]
  },
  {
   "cell_type": "markdown",
   "metadata": {},
   "source": [
    "Our main goal of retrieving data through the API is to learn more about:\n",
    "- going through API documentation\n",
    "- Structuring the steps and understanding what we need in order get the right data\n",
    "- Calling the API and understanding the logic\n",
    "- Working with Python to improve our skill level"
   ]
  },
  {
   "cell_type": "markdown",
   "metadata": {},
   "source": [
    "We spent a large amount of time on making the API calls work properly. Unfortunately this project is limited in time and, therefore, we have decided to focus on getting the weather data by downloading CSV files. This information will then be merged with the World Happiness Report for further data cleaning and analysis."
   ]
  },
  {
   "cell_type": "code",
   "execution_count": null,
   "metadata": {},
   "outputs": [],
   "source": []
  }
 ],
 "metadata": {
  "kernelspec": {
   "display_name": "Python 3",
   "language": "python",
   "name": "python3"
  },
  "language_info": {
   "codemirror_mode": {
    "name": "ipython",
    "version": 3
   },
   "file_extension": ".py",
   "mimetype": "text/x-python",
   "name": "python",
   "nbconvert_exporter": "python",
   "pygments_lexer": "ipython3",
   "version": "3.8.5"
  }
 },
 "nbformat": 4,
 "nbformat_minor": 4
}
